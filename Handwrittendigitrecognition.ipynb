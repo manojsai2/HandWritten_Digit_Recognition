{
 "cells": [
  {
   "cell_type": "markdown",
   "id": "c1965084",
   "metadata": {},
   "source": [
    "# Hand Written Digit Recognition"
   ]
  },
  {
   "cell_type": "markdown",
   "id": "4d87be25",
   "metadata": {},
   "source": [
    "# Import libraries"
   ]
  },
  {
   "cell_type": "code",
   "execution_count": 5,
   "id": "648dd968",
   "metadata": {},
   "outputs": [
    {
     "data": {
      "text/plain": [
       "((60000, 28, 28), (60000,))"
      ]
     },
     "execution_count": 5,
     "metadata": {},
     "output_type": "execute_result"
    }
   ],
   "source": [
    "import keras\n",
    "from keras.datasets import mnist\n",
    "from keras.models import Sequential\n",
    "from keras.layers import Dense,Flatten,Dropout\n",
    "from keras.layers import Conv2D,MaxPooling2D\n",
    "from keras import backend as K\n",
    "\n",
    "#load data and split into train and test sets\n",
    "(x_train,y_train),(x_test,y_test)=mnist.load_data()\n",
    "\n",
    "x_train.shape , y_train.shape"
   ]
  },
  {
   "cell_type": "markdown",
   "id": "431a8678",
   "metadata": {},
   "source": [
    "# Reshaping the data"
   ]
  },
  {
   "cell_type": "code",
   "execution_count": null,
   "id": "18533e06",
   "metadata": {},
   "outputs": [],
   "source": [
    "# x_train=x_train.reshape(x_train.shape[0],28,28,1)\n",
    "x_test=x_test.reshape(x_test.shape[0],28,28,1)\n",
    "\n",
    "# convert class vectors to binary class matrices\n",
    "y_train=keras.utils.to_categorical(y_train,10)\n",
    "y_test=keras.utils.to_categorical(y_test,10)\n",
    "\n",
    "x_train=x_train.astype('float32')\n",
    "x_test=x_test.astype('float32')\n",
    "\n",
    "#making all data to be in between o to 1\n",
    "x_train /= 255\n",
    "x_test /= 255\n",
    "print('x_train shape:', x_train.shape)\n",
    "print(x_train.shape[0], 'train samples')\n",
    "print(x_test.shape[0], 'test samples')"
   ]
  },
  {
   "cell_type": "markdown",
   "id": "f674d85e",
   "metadata": {},
   "source": [
    "# Model"
   ]
  },
  {
   "cell_type": "code",
   "execution_count": 7,
   "id": "6f22ed65",
   "metadata": {},
   "outputs": [],
   "source": [
    "input_shape=(28,28,1)\n",
    "model=Sequential([ \n",
    "    # here 32 and 64 are no of filters and a 3x3 is the kernal-sixe that means size of filter \n",
    "    Conv2D(32,(3,3),activation='relu',input_shape=input_shape),\n",
    "    Conv2D(64,(3,3),activation='relu'),\n",
    "    #Maxpooling helps to reduce the the size\n",
    "    MaxPooling2D(pool_size=(2,2)),\n",
    "    # It randomnly drops out a fraction of neurons to avoid overfitting\n",
    "    Dropout(0.25),\n",
    "    # it flattens the dimension from 3D to 1D\n",
    "    Flatten(),\n",
    "    Dense(256,activation='relu'),\n",
    "    Dropout(0.5),\n",
    "    Dense(10,activation='softmax')\n",
    "])\n",
    "model.compile(loss=keras.losses.CategoricalCrossentropy(),optimizer=keras.optimizers.Adam(0.001),metrics=['accuracy'])"
   ]
  },
  {
   "cell_type": "markdown",
   "id": "6b89852e",
   "metadata": {},
   "source": [
    "# Fit the Model"
   ]
  },
  {
   "cell_type": "code",
   "execution_count": 8,
   "id": "0e20ed40",
   "metadata": {},
   "outputs": [
    {
     "name": "stdout",
     "output_type": "stream",
     "text": [
      "Epoch 1/10\n",
      "469/469 [==============================] - 188s 393ms/step - loss: 0.1882 - accuracy: 0.9425 - val_loss: 0.0450 - val_accuracy: 0.9859\n",
      "Epoch 2/10\n",
      "469/469 [==============================] - 183s 390ms/step - loss: 0.0639 - accuracy: 0.9804 - val_loss: 0.0337 - val_accuracy: 0.9888\n",
      "Epoch 3/10\n",
      "469/469 [==============================] - 183s 390ms/step - loss: 0.0462 - accuracy: 0.9859 - val_loss: 0.0307 - val_accuracy: 0.9897\n",
      "Epoch 4/10\n",
      "469/469 [==============================] - 180s 384ms/step - loss: 0.0371 - accuracy: 0.9886 - val_loss: 0.0259 - val_accuracy: 0.9910\n",
      "Epoch 5/10\n",
      "469/469 [==============================] - 154s 329ms/step - loss: 0.0307 - accuracy: 0.9903 - val_loss: 0.0240 - val_accuracy: 0.9922\n",
      "Epoch 6/10\n",
      "469/469 [==============================] - 108s 229ms/step - loss: 0.0262 - accuracy: 0.9916 - val_loss: 0.0241 - val_accuracy: 0.9916\n",
      "Epoch 7/10\n",
      "469/469 [==============================] - 110s 235ms/step - loss: 0.0226 - accuracy: 0.9928 - val_loss: 0.0260 - val_accuracy: 0.9923\n",
      "Epoch 8/10\n",
      "469/469 [==============================] - 107s 228ms/step - loss: 0.0207 - accuracy: 0.9933 - val_loss: 0.0253 - val_accuracy: 0.9923\n",
      "Epoch 9/10\n",
      "469/469 [==============================] - 107s 228ms/step - loss: 0.0179 - accuracy: 0.9940 - val_loss: 0.0264 - val_accuracy: 0.9921\n",
      "Epoch 10/10\n",
      "469/469 [==============================] - 107s 228ms/step - loss: 0.0175 - accuracy: 0.9942 - val_loss: 0.0314 - val_accuracy: 0.9898\n",
      "The model has successfully trained\n"
     ]
    }
   ],
   "source": [
    "hist = model.fit(x_train, y_train,batch_size=128,epochs=10,verbose=1,validation_data=(x_test, y_test))\n",
    "print(\"The model has successfully trained\")"
   ]
  },
  {
   "cell_type": "markdown",
   "id": "546fa5fa",
   "metadata": {},
   "source": [
    "# Evaluation"
   ]
  },
  {
   "cell_type": "code",
   "execution_count": 9,
   "id": "3c85fc48",
   "metadata": {},
   "outputs": [
    {
     "name": "stdout",
     "output_type": "stream",
     "text": [
      "Test loss: 0.03141001611948013\n",
      "Test accuracy: 0.989799976348877\n"
     ]
    }
   ],
   "source": [
    "score = model.evaluate(x_test, y_test, verbose=0)\n",
    "print('Test loss:', score[0])\n",
    "print('Test accuracy:', score[1])"
   ]
  },
  {
   "cell_type": "markdown",
   "id": "6e667b91",
   "metadata": {},
   "source": [
    "# Saving The Model"
   ]
  },
  {
   "cell_type": "code",
   "execution_count": 10,
   "id": "02792235",
   "metadata": {},
   "outputs": [
    {
     "name": "stdout",
     "output_type": "stream",
     "text": [
      "Saving the model as mnist.h5\n"
     ]
    }
   ],
   "source": [
    "model.save('mnist.h5')\n",
    "print(\"Saving the model as mnist.h5\")"
   ]
  },
  {
   "cell_type": "markdown",
   "id": "de8a7f0b",
   "metadata": {},
   "source": [
    "# GUI to predict digits"
   ]
  },
  {
   "cell_type": "code",
   "execution_count": 11,
   "id": "b2768dc8",
   "metadata": {},
   "outputs": [
    {
     "name": "stdout",
     "output_type": "stream",
     "text": [
      "1/1 [==============================] - 0s 98ms/step\n",
      "1/1 [==============================] - 0s 30ms/step\n"
     ]
    }
   ],
   "source": [
    "from keras.models import load_model\n",
    "from tkinter import *\n",
    "import tkinter as tk\n",
    "import win32gui\n",
    "from PIL import ImageGrab, Image\n",
    "import numpy as np\n",
    "\n",
    "model = load_model('mnist.h5')\n",
    "\n",
    "def predict_digit(img):\n",
    "    #resize image to 28x28 pixels\n",
    "    img = img.resize((28,28))\n",
    "    #convert rgb to grayscale\n",
    "    img = img.convert('L')\n",
    "    img = np.array(img)\n",
    "    #reshaping to support our model input and normalizing\n",
    "    img = img.reshape(1,28,28,1)\n",
    "    img = img/255.0\n",
    "    #predicting the class\n",
    "    res = model.predict([img])[0]\n",
    "    return np.argmax(res), max(res)\n",
    "\n",
    "class App(tk.Tk):\n",
    "    def __init__(self):\n",
    "        tk.Tk.__init__(self)\n",
    "\n",
    "        self.x = self.y = 0\n",
    "\n",
    "        # Creating elements\n",
    "        self.canvas = tk.Canvas(self, width=300, height=300, bg = \"white\", cursor=\"cross\")\n",
    "        self.label = tk.Label(self, text=\"Thinking..\", font=(\"Helvetica\", 48))\n",
    "        self.classify_btn = tk.Button(self, text = \"Recognise\", command =         self.classify_handwriting) \n",
    "        self.button_clear = tk.Button(self, text = \"Clear\", command = self.clear_all)\n",
    "\n",
    "        # Grid structure\n",
    "        self.canvas.grid(row=0, column=0, pady=2, sticky=W, )\n",
    "        self.label.grid(row=0, column=1,pady=2, padx=2)\n",
    "        self.classify_btn.grid(row=1, column=1, pady=2, padx=2)\n",
    "        self.button_clear.grid(row=1, column=0, pady=2)\n",
    "\n",
    "        #self.canvas.bind(\"<Motion>\", self.start_pos)\n",
    "        self.canvas.bind(\"<B1-Motion>\", self.draw_lines)\n",
    "\n",
    "    def clear_all(self):\n",
    "        self.canvas.delete(\"all\")\n",
    "\n",
    "    def classify_handwriting(self):\n",
    "        HWND = self.canvas.winfo_id() # get the handle of the canvas\n",
    "        rect = win32gui.GetWindowRect(HWND) # get the coordinate of the canvas\n",
    "        im = ImageGrab.grab(rect)\n",
    "\n",
    "        digit, acc = predict_digit(im)\n",
    "        self.label.configure(text= str(digit)+', '+ str(int(acc*100))+'%')\n",
    "\n",
    "    def draw_lines(self, event):\n",
    "        self.x = event.x\n",
    "        self.y = event.y\n",
    "        r=8\n",
    "        self.canvas.create_oval(self.x-r, self.y-r, self.x + r, self.y + r, fill='black')\n",
    "\n",
    "app = App()\n",
    "mainloop()"
   ]
  },
  {
   "cell_type": "code",
   "execution_count": null,
   "id": "1d17df0f",
   "metadata": {},
   "outputs": [],
   "source": []
  }
 ],
 "metadata": {
  "kernelspec": {
   "display_name": "Python 3 (ipykernel)",
   "language": "python",
   "name": "python3"
  },
  "language_info": {
   "codemirror_mode": {
    "name": "ipython",
    "version": 3
   },
   "file_extension": ".py",
   "mimetype": "text/x-python",
   "name": "python",
   "nbconvert_exporter": "python",
   "pygments_lexer": "ipython3",
   "version": "3.11.3"
  }
 },
 "nbformat": 4,
 "nbformat_minor": 5
}
